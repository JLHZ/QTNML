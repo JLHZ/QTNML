{
  "nbformat": 4,
  "nbformat_minor": 0,
  "metadata": {
    "colab": {
      "name": "simplifed_MPS.ipynb",
      "provenance": [],
      "collapsed_sections": []
    },
    "kernelspec": {
      "name": "python3",
      "display_name": "Python 3"
    },
    "accelerator": "GPU"
  },
  "cells": [
    {
      "cell_type": "code",
      "metadata": {
        "id": "-4ec_krmLUgK",
        "colab_type": "code",
        "colab": {
          "base_uri": "https://localhost:8080/",
          "height": 136
        },
        "outputId": "d0dfa147-1c08-4c65-bd05-49dfb9fe331a"
      },
      "source": [
        "pip install tensornetwork"
      ],
      "execution_count": null,
      "outputs": [
        {
          "output_type": "stream",
          "text": [
            "Requirement already satisfied: tensornetwork in /usr/local/lib/python3.6/dist-packages (0.4.1)\n",
            "Requirement already satisfied: numpy>=1.17 in /usr/local/lib/python3.6/dist-packages (from tensornetwork) (1.18.5)\n",
            "Requirement already satisfied: graphviz>=0.11.1 in /usr/local/lib/python3.6/dist-packages (from tensornetwork) (0.14.1)\n",
            "Requirement already satisfied: h5py>=2.9.0 in /usr/local/lib/python3.6/dist-packages (from tensornetwork) (2.10.0)\n",
            "Requirement already satisfied: opt-einsum>=2.3.0 in /usr/local/lib/python3.6/dist-packages (from tensornetwork) (3.3.0)\n",
            "Requirement already satisfied: scipy>=1.1 in /usr/local/lib/python3.6/dist-packages (from tensornetwork) (1.4.1)\n",
            "Requirement already satisfied: six in /usr/local/lib/python3.6/dist-packages (from h5py>=2.9.0->tensornetwork) (1.15.0)\n"
          ],
          "name": "stdout"
        }
      ]
    },
    {
      "cell_type": "code",
      "metadata": {
        "id": "FgwkSBNKLgcd",
        "colab_type": "code",
        "colab": {}
      },
      "source": [
        "%matplotlib inline\n",
        "import matplotlib.pyplot as plt\n",
        "from IPython.display import clear_output\n",
        "\n",
        "import keras\n",
        "from keras.layers import Dense, Flatten, Dropout, Activation\n",
        "from keras.layers import Conv2D, MaxPooling2D\n",
        "\n",
        "import numpy as np\n",
        "import tensorflow as tf\n",
        "from tensorflow.keras import layers\n",
        "from tensorflow.keras.models import Sequential\n",
        "# Import tensornetwork\n",
        "# import tensornetwork as tn\n",
        "# Set the backend to tesorflow\n",
        "# (default is numpy)\n",
        "# tn.set_default_backend(\"tensorflow\")"
      ],
      "execution_count": null,
      "outputs": []
    },
    {
      "cell_type": "code",
      "metadata": {
        "id": "EHc7SUEthfr_",
        "colab_type": "code",
        "colab": {}
      },
      "source": [
        "batch_size = 64\n",
        "num_classes = 10\n",
        "epochs = 30\n",
        "\n",
        "d_bond = 10 # for MPS"
      ],
      "execution_count": null,
      "outputs": []
    },
    {
      "cell_type": "code",
      "metadata": {
        "id": "j8P2oQ1KGzdt",
        "colab_type": "code",
        "colab": {}
      },
      "source": [
        "\n",
        "class TrainingPlot(keras.callbacks.Callback):\n",
        "    \n",
        "    # This function is called when the training begins\n",
        "    def on_train_begin(self, logs={}):\n",
        "        # Initialize the lists for holding the logs, losses and accuracies\n",
        "        self.losses = []\n",
        "        self.acc = []\n",
        "        self.val_losses = []\n",
        "        self.val_acc = []\n",
        "        self.logs = []\n",
        "    \n",
        "    # This function is called at the end of each epoch\n",
        "    def on_epoch_end(self, epoch, logs={}):\n",
        "        \n",
        "        # Append the logs, losses and accuracies to the lists\n",
        "        self.logs.append(logs)\n",
        "        self.losses.append(logs.get('loss'))\n",
        "        self.acc.append(logs.get('acc'))\n",
        "        self.val_losses.append(logs.get('val_loss'))\n",
        "        self.val_acc.append(logs.get('val_acc'))\n",
        "        \n",
        "        # Before plotting ensure at least 2 epochs have passed\n",
        "        if len(self.losses) > 1:\n",
        "            \n",
        "            # Clear the previous plot\n",
        "            clear_output(wait=True)\n",
        "            N = np.arange(0, len(self.losses))\n",
        "            \n",
        "            # You can chose the style of your preference\n",
        "            # print(plt.style.available) to see the available options\n",
        "            plt.style.use(\"seaborn\")\n",
        "            \n",
        "            # Plot train loss, train acc, val loss and val acc against epochs passed\n",
        "            plt.figure()\n",
        "            plt.plot(N, self.losses, label = \"train_loss\")\n",
        "            plt.plot(N, self.acc, label = \"train_acc\")\n",
        "            plt.plot(N, self.val_losses, label = \"val_loss\")\n",
        "            plt.plot(N, self.val_acc, label = \"val_acc\")\n",
        "            plt.title(\"Training Loss and Accuracy [Epoch {}]\".format(epoch))\n",
        "            plt.xlabel(\"Epoch #\")\n",
        "            plt.ylabel(\"Loss/Accuracy\")\n",
        "            plt.legend()\n",
        "            plt.show()\n",
        "\n",
        "plot_losses = TrainingPlot()"
      ],
      "execution_count": null,
      "outputs": []
    },
    {
      "cell_type": "code",
      "metadata": {
        "id": "OtbCSnVKhDrz",
        "colab_type": "code",
        "colab": {
          "base_uri": "https://localhost:8080/",
          "height": 478
        },
        "outputId": "701b2af1-67ad-4d2b-b934-6c16ecc2cc77"
      },
      "source": [
        "%%time\n",
        "def preprocess_images(x):\n",
        "  n_data, dim0, dim1 = tuple(x.shape)\n",
        "  n_sites = dim0 * dim1\n",
        "  x = x.astype(np.float32).reshape((n_data, n_sites)) / 255.0\n",
        "  # x = tf.cast(tf.math.greater(x, 0.5), dtype=tf.int32)\n",
        "  # return tf.keras.utils.to_categorical(x, 2)\n",
        "  return np.stack([x, 1-x], axis=2)\n",
        "\n",
        "\n",
        "(x_train, y_train), (x_test, y_test) = tf.keras.datasets.mnist.load_data()\n",
        "# convert class vectors to binary class matrices\n",
        "y_train = tf.keras.utils.to_categorical(y_train, num_classes)\n",
        "y_test = tf.keras.utils.to_categorical(y_test, num_classes)\n",
        "# convert images to supported format\n",
        "x_train = preprocess_images(x_train)\n",
        "x_test = preprocess_images(x_test)\n",
        "\n",
        "\n",
        "class MPSLayer(layers.Layer):\n",
        "\n",
        "  def __init__(self, n_sites, d_bond, n_output, dtype=tf.float32):\n",
        "    super(MPSLayer, self).__init__()\n",
        "    if n_sites % 2:\n",
        "        raise NotImplementedError(\"Number of sites should be even but is \"\n",
        "                                  \"{}.\".format(n_sites))\n",
        "\n",
        "    self.n_half = n_sites // 2\n",
        "    self.left = tf.Variable(self._initializer(self.n_half, 2, d_bond),\n",
        "                            dtype=dtype, trainable=True)\n",
        "    self.right = tf.Variable(self._initializer(self.n_half, 2, d_bond),\n",
        "                             dtype=dtype, trainable=True)\n",
        "    self.middle = tf.Variable(self._initializer(1, n_output, d_bond)[:,0,:,:],\n",
        "                              dtype=dtype, trainable=True)\n",
        "\n",
        "  @staticmethod\n",
        "  def _initializer(n_sites, d_phys, d_bond):\n",
        "    w = np.stack(d_phys * n_sites * [np.eye(d_bond)])\n",
        "    w = w.reshape((d_phys, n_sites, d_bond, d_bond))\n",
        "    return w + np.random.normal(0, 1e-2, size=w.shape)\n",
        "\n",
        "  def call(self, inputs):\n",
        "    left = tf.einsum(\"slij,bls->lbij\", self.left, inputs[:, :self.n_half])\n",
        "    right = tf.einsum(\"slij,bls->lbij\", self.right, inputs[:, self.n_half:])\n",
        "    left = self.reduction(left)\n",
        "    right = self.reduction(right)\n",
        "    return tf.einsum(\"bij,cjk,bki->bc\", left, self.middle, right)\n",
        "\n",
        "  @staticmethod\n",
        "  def reduction(tensor):\n",
        "    size = int(tensor.shape[0])\n",
        "    while size > 1:\n",
        "      half_size = size // 2\n",
        "      nice_size = 2 * half_size\n",
        "      leftover = tensor[nice_size:]\n",
        "      tensor = tf.matmul(tensor[0:nice_size:2], tensor[1:nice_size:2])\n",
        "      tensor = tf.concat([tensor, leftover], axis=0)\n",
        "      size = half_size + int(size % 2 == 1)\n",
        "    return tensor[0]\n",
        "\n",
        "\n",
        "# Define model\n",
        "n_sites = x_train.shape[1]\n",
        "model = Sequential()\n",
        "model.add(MPSLayer(n_sites=n_sites, d_bond=d_bond, n_output=num_classes))\n",
        "model.add(layers.Softmax())\n",
        "\n",
        "\n",
        "# Compile and run\n",
        "model.compile(loss=tf.keras.losses.categorical_crossentropy,\n",
        "              optimizer=tf.keras.optimizers.Adadelta(),\n",
        "              metrics=['accuracy'])\n",
        "\n",
        "his = model.fit(x_train, y_train,\n",
        "          batch_size=batch_size,\n",
        "          epochs=epochs,\n",
        "          verbose=1,\n",
        "          validation_data=(x_test, y_test),\n",
        "          callbacks=[plot_losses])\n",
        "score = model.evaluate(x_test, y_test, verbose=0)\n",
        "\n",
        "print('Test loss:', score[0])\n",
        "print('Test accuracy:', score[1])\n",
        "print(his)\n"
      ],
      "execution_count": null,
      "outputs": [
        {
          "output_type": "display_data",
          "data": {
            "image/png": "[encoded data removed]",
            "text/plain": [
              "<Figure size 576x396 with 1 Axes>"
            ]
          },
          "metadata": {
            "tags": []
          }
        },
        {
          "output_type": "stream",
          "text": [
            "\b\b\b\b\b\b\b\b\b\b\b\b\b\b\b\b\b\b\b\b\b\b\b\b\b\b\b\b\b\b\b\b\b\b\b\b\b\b\b\b\b\b\b\b\b\b\b\b\b\b\b\b\b\b\b\b\b\b\b\b\b\b\b\b\b\b\b\b\b\b\b\b\b\b\b\b\b\b\b\b\b\b\b\b\r938/938 [==============================] - 12s 13ms/step - loss: 0.2422 - accuracy: 0.9291 - val_loss: 0.2371 - val_accuracy: 0.9287\n",
            "Test loss: 0.23705793917179108\n",
            "Test accuracy: 0.9286999702453613\n",
            "<tensorflow.python.keras.callbacks.History object at 0x7f847bbbfd30>\n",
            "CPU times: user 5min 24s, sys: 1min 23s, total: 6min 48s\n",
            "Wall time: 6min 10s\n"
          ],
          "name": "stdout"
        }
      ]
    },
    {
      "cell_type": "code",
      "metadata": {
        "id": "YhcPr94QhSoB",
        "colab_type": "code",
        "colab": {
          "base_uri": "https://localhost:8080/",
          "height": 221
        },
        "outputId": "4c6b0f6a-4bd0-4103-be35-82c3dc83e240"
      },
      "source": [
        "\n",
        "model.summary()"
      ],
      "execution_count": null,
      "outputs": [
        {
          "output_type": "stream",
          "text": [
            "Model: \"sequential_9\"\n",
            "_________________________________________________________________\n",
            "Layer (type)                 Output Shape              Param #   \n",
            "=================================================================\n",
            "mps_layer_4 (MPSLayer)       (None, 10)                157800    \n",
            "_________________________________________________________________\n",
            "softmax_4 (Softmax)          (None, 10)                0         \n",
            "=================================================================\n",
            "Total params: 157,800\n",
            "Trainable params: 157,800\n",
            "Non-trainable params: 0\n",
            "_________________________________________________________________\n"
          ],
          "name": "stdout"
        }
      ]
    },
    {
      "cell_type": "code",
      "metadata": {
        "id": "xFWMlROAA4TF",
        "colab_type": "code",
        "colab": {
          "base_uri": "https://localhost:8080/",
          "height": 295
        },
        "outputId": "b3019451-f7cc-45b7-dcaf-1b9c27956bdf"
      },
      "source": [
        "import matplotlib.pyplot as plt\n",
        "\n",
        "# Plot history: MPS\n",
        "plt.plot(his.history['loss'], label='MPS (training data)')\n",
        "plt.plot(his.history['val_loss'], label='MPS (validation data)')\n",
        "plt.title('MPS')\n",
        "plt.ylabel('Training and Validation Loss')\n",
        "plt.xlabel('No. epoch')\n",
        "plt.legend(loc=\"upper left\")\n",
        "plt.show()"
      ],
      "execution_count": null,
      "outputs": [
        {
          "output_type": "display_data",
          "data": {
            "image/png": "[encoded data removed]",
            "text/plain": [
              "<Figure size 432x288 with 1 Axes>"
            ]
          },
          "metadata": {
            "tags": [],
            "needs_background": "light"
          }
        }
      ]
    },
    {
      "cell_type": "code",
      "metadata": {
        "id": "oL6Z3cBioL1S",
        "colab_type": "code",
        "colab": {
          "base_uri": "https://localhost:8080/",
          "height": 1000
        },
        "outputId": "f1464150-c521-4c8e-c656-3e0122c9a450"
      },
      "source": [
        "%%time\n",
        "def preprocess_images(x):\n",
        "  x = x.astype(np.float32) / 255.0\n",
        "  return np.stack([x,1-x], axis=3)\n",
        "\n",
        "(x_train, y_train), (x_test, y_test) = tf.keras.datasets.mnist.load_data()\n",
        "# Renormalize pixel values\n",
        "# x_train = x_train[:, :, :, tf.newaxis] / 255\n",
        "# x_test = x_test[:, :, :, tf.newaxis] / 255\n",
        "x_train = preprocess_images(x_train)\n",
        "x_test = preprocess_images(x_test)\n",
        "\n",
        "# convert class vectors to binary class matrices\n",
        "y_train = tf.keras.utils.to_categorical(y_train, num_classes)\n",
        "y_test = tf.keras.utils.to_categorical(y_test, num_classes)\n",
        "\n",
        "# Define model\n",
        "input_shape = x_train.shape[1:]\n",
        "model = Sequential()\n",
        "model.add(layers.Conv2D(32, kernel_size=(3, 3), activation='relu',\n",
        "                        input_shape=input_shape))\n",
        "model.add(layers.Conv2D(64, (3, 3), activation='relu'))\n",
        "model.add(layers.MaxPooling2D(pool_size=(2, 2)))\n",
        "model.add(layers.Dropout(0.25))\n",
        "model.add(layers.Flatten())\n",
        "model.add(layers.Dense(128, activation='relu'))\n",
        "model.add(layers.Dropout(0.5))\n",
        "model.add(layers.Dense(num_classes, activation='softmax'))\n",
        "\n",
        "# Compile and run\n",
        "model.compile(loss=tf.keras.losses.categorical_crossentropy,\n",
        "              optimizer=tf.keras.optimizers.Adadelta(),\n",
        "              metrics=['accuracy'])\n",
        "\n",
        "his_CNN = model.fit(x_train, y_train,\n",
        "                    batch_size=batch_size,\n",
        "                    epochs=epochs,\n",
        "                    verbose=1,\n",
        "                    validation_data=(x_test, y_test))\n",
        "score = model.evaluate(x_test, y_test, verbose=0)\n",
        "\n",
        "print('Test loss:', score[0])\n",
        "print('Test accuracy:', score[1])\n"
      ],
      "execution_count": null,
      "outputs": [
        {
          "output_type": "stream",
          "text": [
            "Epoch 1/30\n",
            "938/938 [==============================] - 5s 5ms/step - loss: 2.2676 - accuracy: 0.1645 - val_loss: 2.2006 - val_accuracy: 0.5116\n",
            "Epoch 2/30\n",
            "938/938 [==============================] - 5s 5ms/step - loss: 2.1648 - accuracy: 0.3113 - val_loss: 2.0646 - val_accuracy: 0.6451\n",
            "Epoch 3/30\n",
            "938/938 [==============================] - 5s 5ms/step - loss: 2.0178 - accuracy: 0.4258 - val_loss: 1.8674 - val_accuracy: 0.6999\n",
            "Epoch 4/30\n",
            "938/938 [==============================] - 5s 5ms/step - loss: 1.8208 - accuracy: 0.5116 - val_loss: 1.6200 - val_accuracy: 0.7497\n",
            "Epoch 5/30\n",
            "938/938 [==============================] - 5s 5ms/step - loss: 1.5991 - accuracy: 0.5737 - val_loss: 1.3580 - val_accuracy: 0.7808\n",
            "Epoch 6/30\n",
            "938/938 [==============================] - 5s 5ms/step - loss: 1.3859 - accuracy: 0.6234 - val_loss: 1.1246 - val_accuracy: 0.8076\n",
            "Epoch 7/30\n",
            "938/938 [==============================] - 5s 5ms/step - loss: 1.2052 - accuracy: 0.6632 - val_loss: 0.9393 - val_accuracy: 0.8218\n",
            "Epoch 8/30\n",
            "938/938 [==============================] - 5s 5ms/step - loss: 1.0762 - accuracy: 0.6860 - val_loss: 0.8063 - val_accuracy: 0.8356\n",
            "Epoch 9/30\n",
            "938/938 [==============================] - 5s 5ms/step - loss: 0.9686 - accuracy: 0.7150 - val_loss: 0.7085 - val_accuracy: 0.8443\n",
            "Epoch 10/30\n",
            "938/938 [==============================] - 5s 5ms/step - loss: 0.8930 - accuracy: 0.7334 - val_loss: 0.6387 - val_accuracy: 0.8522\n",
            "Epoch 11/30\n",
            "938/938 [==============================] - 5s 5ms/step - loss: 0.8308 - accuracy: 0.7500 - val_loss: 0.5828 - val_accuracy: 0.8595\n",
            "Epoch 12/30\n",
            "938/938 [==============================] - 5s 5ms/step - loss: 0.7796 - accuracy: 0.7627 - val_loss: 0.5402 - val_accuracy: 0.8657\n",
            "Epoch 13/30\n",
            "938/938 [==============================] - 5s 5ms/step - loss: 0.7411 - accuracy: 0.7750 - val_loss: 0.5065 - val_accuracy: 0.8718\n",
            "Epoch 14/30\n",
            "938/938 [==============================] - 5s 5ms/step - loss: 0.7075 - accuracy: 0.7835 - val_loss: 0.4794 - val_accuracy: 0.8776\n",
            "Epoch 15/30\n",
            "938/938 [==============================] - 5s 5ms/step - loss: 0.6778 - accuracy: 0.7940 - val_loss: 0.4562 - val_accuracy: 0.8820\n",
            "Epoch 16/30\n",
            "938/938 [==============================] - 5s 5ms/step - loss: 0.6560 - accuracy: 0.7987 - val_loss: 0.4370 - val_accuracy: 0.8850\n",
            "Epoch 17/30\n",
            "938/938 [==============================] - 5s 5ms/step - loss: 0.6340 - accuracy: 0.8058 - val_loss: 0.4206 - val_accuracy: 0.8897\n",
            "Epoch 18/30\n",
            "938/938 [==============================] - 5s 5ms/step - loss: 0.6155 - accuracy: 0.8123 - val_loss: 0.4069 - val_accuracy: 0.8908\n",
            "Epoch 19/30\n",
            "938/938 [==============================] - 5s 5ms/step - loss: 0.5993 - accuracy: 0.8164 - val_loss: 0.3948 - val_accuracy: 0.8943\n",
            "Epoch 20/30\n",
            "938/938 [==============================] - 5s 5ms/step - loss: 0.5812 - accuracy: 0.8217 - val_loss: 0.3833 - val_accuracy: 0.8963\n",
            "Epoch 21/30\n",
            "938/938 [==============================] - 5s 5ms/step - loss: 0.5725 - accuracy: 0.8242 - val_loss: 0.3736 - val_accuracy: 0.8978\n",
            "Epoch 22/30\n",
            "938/938 [==============================] - 5s 5ms/step - loss: 0.5598 - accuracy: 0.8294 - val_loss: 0.3643 - val_accuracy: 0.8996\n",
            "Epoch 23/30\n",
            "938/938 [==============================] - 5s 5ms/step - loss: 0.5460 - accuracy: 0.8334 - val_loss: 0.3558 - val_accuracy: 0.9017\n",
            "Epoch 24/30\n",
            "938/938 [==============================] - 5s 5ms/step - loss: 0.5366 - accuracy: 0.8356 - val_loss: 0.3486 - val_accuracy: 0.9029\n",
            "Epoch 25/30\n",
            "938/938 [==============================] - 5s 5ms/step - loss: 0.5244 - accuracy: 0.8392 - val_loss: 0.3419 - val_accuracy: 0.9041\n",
            "Epoch 26/30\n",
            "938/938 [==============================] - 5s 5ms/step - loss: 0.5167 - accuracy: 0.8426 - val_loss: 0.3357 - val_accuracy: 0.9053\n",
            "Epoch 27/30\n",
            "938/938 [==============================] - 5s 5ms/step - loss: 0.5060 - accuracy: 0.8465 - val_loss: 0.3294 - val_accuracy: 0.9070\n",
            "Epoch 28/30\n",
            "938/938 [==============================] - 5s 5ms/step - loss: 0.4992 - accuracy: 0.8482 - val_loss: 0.3238 - val_accuracy: 0.9084\n",
            "Epoch 29/30\n",
            "938/938 [==============================] - 5s 5ms/step - loss: 0.4936 - accuracy: 0.8500 - val_loss: 0.3187 - val_accuracy: 0.9089\n",
            "Epoch 30/30\n",
            "938/938 [==============================] - 5s 5ms/step - loss: 0.4893 - accuracy: 0.8512 - val_loss: 0.3137 - val_accuracy: 0.9102\n",
            "Test loss: 0.313738077878952\n",
            "Test accuracy: 0.9101999998092651\n",
            "CPU times: user 2min 31s, sys: 28.1 s, total: 3min\n",
            "Wall time: 2min 25s\n"
          ],
          "name": "stdout"
        }
      ]
    },
    {
      "cell_type": "code",
      "metadata": {
        "id": "rREsKrpNpFSt",
        "colab_type": "code",
        "colab": {
          "base_uri": "https://localhost:8080/",
          "height": 425
        },
        "outputId": "6ac6df0b-444c-4a96-9fc3-a75d8d3ea8cb"
      },
      "source": [
        "model.summary()"
      ],
      "execution_count": null,
      "outputs": [
        {
          "output_type": "stream",
          "text": [
            "Model: \"sequential_10\"\n",
            "_________________________________________________________________\n",
            "Layer (type)                 Output Shape              Param #   \n",
            "=================================================================\n",
            "conv2d_7 (Conv2D)            (None, 26, 26, 32)        608       \n",
            "_________________________________________________________________\n",
            "conv2d_8 (Conv2D)            (None, 24, 24, 64)        18496     \n",
            "_________________________________________________________________\n",
            "max_pooling2d_2 (MaxPooling2 (None, 12, 12, 64)        0         \n",
            "_________________________________________________________________\n",
            "dropout_4 (Dropout)          (None, 12, 12, 64)        0         \n",
            "_________________________________________________________________\n",
            "flatten_2 (Flatten)          (None, 9216)              0         \n",
            "_________________________________________________________________\n",
            "dense_4 (Dense)              (None, 128)               1179776   \n",
            "_________________________________________________________________\n",
            "dropout_5 (Dropout)          (None, 128)               0         \n",
            "_________________________________________________________________\n",
            "dense_5 (Dense)              (None, 10)                1290      \n",
            "=================================================================\n",
            "Total params: 1,200,170\n",
            "Trainable params: 1,200,170\n",
            "Non-trainable params: 0\n",
            "_________________________________________________________________\n"
          ],
          "name": "stdout"
        }
      ]
    },
    {
      "cell_type": "code",
      "metadata": {
        "id": "8nfur5rbx4zZ",
        "colab_type": "code",
        "colab": {
          "base_uri": "https://localhost:8080/",
          "height": 295
        },
        "outputId": "ae406aa7-6a57-4284-99af-d5b7ffceecc9"
      },
      "source": [
        "import matplotlib.pyplot as plt\n",
        "\n",
        "# Plot history: MAE\n",
        "plt.plot(his_CNN.history['loss'], label='CNN (training data)')\n",
        "plt.plot(his_CNN.history['val_loss'], label='CNN (validation data)')\n",
        "plt.title('CNN')\n",
        "plt.ylabel('Training and Validation Loss')\n",
        "plt.xlabel('No. epoch')\n",
        "plt.legend(loc=\"upper left\")\n",
        "plt.show()"
      ],
      "execution_count": null,
      "outputs": [
        {
          "output_type": "display_data",
          "data": {
            "image/png": "[encoded data removed]",
            "text/plain": [
              "<Figure size 432x288 with 1 Axes>"
            ]
          },
          "metadata": {
            "tags": [],
            "needs_background": "light"
          }
        }
      ]
    },
    {
      "cell_type": "code",
      "metadata": {
        "id": "PnP-kLQfLQM1",
        "colab_type": "code",
        "colab": {}
      },
      "source": [
        ""
      ],
      "execution_count": null,
      "outputs": []
    },
    {
      "cell_type": "code",
      "metadata": {
        "id": "K6CQbO6F7Knm",
        "colab_type": "code",
        "colab": {}
      },
      "source": [
        ""
      ],
      "execution_count": null,
      "outputs": []
    }
  ]
}