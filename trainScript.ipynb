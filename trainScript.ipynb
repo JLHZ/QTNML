{
 "metadata": {
  "language_info": {
   "codemirror_mode": {
    "name": "ipython",
    "version": 3
   },
   "file_extension": ".py",
   "mimetype": "text/x-python",
   "name": "python",
   "nbconvert_exporter": "python",
   "pygments_lexer": "ipython3",
   "version": "3.7.9-final"
  },
  "orig_nbformat": 2,
  "kernelspec": {
   "name": "python_defaultSpec_1599551229031",
   "display_name": "Python 3.7.9 64-bit ('googleTNs': conda)"
  }
 },
 "nbformat": 4,
 "nbformat_minor": 2,
 "cells": [
  {
   "cell_type": "code",
   "execution_count": 1,
   "metadata": {},
   "outputs": [],
   "source": [
    "import tensorflow as tf\n",
    "import tensorflow_datasets as tfds\n",
    "import tensornetwork as tn\n",
    "import numpy as np\n",
    "from tensorflow.keras.datasets import mnist\n",
    "import time\n",
    "\n",
    "tn.set_default_backend(\"numpy\")"
   ]
  },
  {
   "cell_type": "code",
   "execution_count": null,
   "metadata": {
    "tags": []
   },
   "outputs": [],
   "source": [
    "batch_size = 128\n",
    "epoch = 100\n",
    "learning_rate = 1e-4\n",
    "\n",
    "(x_train, y_train), (x_test, y_test) = tf.keras.datasets.mnist.load_data()\n",
    "def preprosessing(X):\n",
    "    X = X.reshape(-1, 28**2) / 255.0\n",
    "    return np.stack([X, 1-X], axis=2)\n",
    "\n",
    "\n",
    "x_train, x_test = preprosessing(x_train), preprosessing(x_test)\n",
    "y_train, y_test = tf.one_hot(y_train, 10), tf.one_hot(y_test, 10)\n",
    "\n",
    "train_ds = tf.data.Dataset.from_tensor_slices((x_train, y_train))\n",
    "test_ds = tf.data.Dataset.from_tensor_slices((x_test, y_test))\n",
    "\n",
    "train_ds = train_ds.batch(batch_size)\n",
    "test_ds = test_ds.batch(batch_size)"
   ]
  },
  {
   "cell_type": "code",
   "execution_count": null,
   "metadata": {
    "tags": []
   },
   "outputs": [],
   "source": [
    "for batch in train_ds.take(4):\n",
    "    image, label = batch\n",
    "    print(image.shape, label.shape)"
   ]
  },
  {
   "cell_type": "code",
   "execution_count": null,
   "metadata": {
    "tags": []
   },
   "outputs": [],
   "source": [
    "# MPS initialization\n",
    "# The following code construct a MPS like this\n",
    "\n",
    "#                        label_size\n",
    "#                            |\n",
    "    # bond_dim               |\n",
    "# A1 --------- A2 ---------- L --------- A3 --------- An\n",
    "# |            |                         |            |\n",
    "# |            |                         |            |\n",
    "#           feature      \n",
    "def construct_MPS(bond_dim, feature, rank, label_size):\n",
    "    label_site = rank // 2\n",
    "    mps = tn.InfiniteMPS.random(\n",
    "        d = [feature for _ in range(label_site)] + [label_size] + [feature for _ in range(rank - label_site)],\n",
    "        D = [bond_dim for _ in range(rank+2)],\n",
    "        dtype = np.float32\n",
    "    )\n",
    "\n",
    "    # left_region = np.stack(mps.tensors[:label_site], axis=0)\n",
    "    # output_site = mps.tensors[label_site]\n",
    "    # right_region = np.stack(mps.tensors[label_site+1:], axis=0)\n",
    "    \n",
    "    return mps\n",
    "    # return nodes, connected_bonds\n"
   ]
  },
  {
   "cell_type": "code",
   "execution_count": null,
   "metadata": {},
   "outputs": [],
   "source": [
    "class MPSModel(tf.keras.Model):\n",
    "    def __init__(self, bond_dim, feature, rank, label_size):\n",
    "        super(MPSModel, self).__init__()\n",
    "\n",
    "        mps = construct_MPS(bond_dim, feature, rank, label_size)\n",
    "        label_site = rank // 2\n",
    "        self.left_region = tf.Variable(mps.tensors[:label_site], name=\"left\", trainable=True)\n",
    "        self.output_site = tf.Variable(mps.tensors[label_site], name=\"output\", trainable=True)\n",
    "        self.right_region = tf.Variable(mps.tensors[label_site+1:], name=\"right\", trainable=True)\n",
    "\n",
    "        self.rank = rank\n",
    "        self.label_site = label_site\n",
    "\n",
    "    def __call__(self, inputs):\n",
    "        # input in size [rank, feature]\n",
    "        for i in range(self.label_site):\n",
    "            \n",
    "        return 1 \n"
   ]
  },
  {
   "cell_type": "code",
   "execution_count": null,
   "metadata": {},
   "outputs": [],
   "source": [
    "bond_dim = 3\n",
    "feature = 2\n",
    "rank = 28**2\n",
    "label_size = 10\n",
    "\n",
    "mpsL = MPSLayer(bond_dim, feature, rank, label_size)"
   ]
  },
  {
   "cell_type": "code",
   "execution_count": null,
   "metadata": {
    "tags": []
   },
   "outputs": [],
   "source": [
    "lnodes = mpsL.variables[0]\n",
    "\n",
    "node_test = [tn.Node(tensor) for tensor in lnodes]"
   ]
  },
  {
   "cell_type": "code",
   "execution_count": null,
   "metadata": {},
   "outputs": [],
   "source": [
    "class MPS(tf.Module):\n",
    "    def __init__(self, bond_dim, feature, rank, label_size, name=None):\n",
    "        super(MPS, self).__init__(name = name)\n",
    "\n",
    "        # register trainable variables \n",
    "        left, output, right = construct_MPS(bond_dim, feature, rank, label_size)\n",
    "        self.left_region = tf.Variable(left)\n",
    "        self.output_site = tf.Variable(output)\n",
    "        self.right_region = tf.Variable(right)\n",
    "\n",
    "        # setting rest of args\n",
    "        self.rank = rank\n",
    "        self.label_size = label_size\n",
    "\n",
    "    def __call__(self, input):\n",
    "        # connect nodes to TNs\n",
    "        nodes = []\n",
    "        for l in range(rank//2):\n",
    "            nodes.append(tn.Node(self.left_region[l].numpy()))\n",
    "        nodes.append(tn.Node(self.output_site.numpy()))\n",
    "        for r in range(rank - rank//2):\n",
    "            nodes.append(tn.Node(self.right_region[l].numpy()))\n",
    "        # nodes = [tn.Node(tensor) for tl in l] + [tn.Node(self.output_site)] + [tn.Node(tensor) for tr in r]\n",
    "        for k in range(-1, rank):\n",
    "            nodes[k].edges[2] ^ nodes[k+1][0]\n",
    "\n",
    "        # connect input to MPS on a one-by-one basis\n",
    "        # input in shape [batch, rank, feature]\n",
    "        label_site = self.rank // 2\n",
    "        scores = []\n",
    "        for batch in input:\n",
    "            pixs = [tn.Node(pix) for pix in batch]\n",
    "            for i in range(label_site):\n",
    "                nodes[i].edges[1] ^ pixs[i].edges[0]\n",
    "            for j in range(label_site+1, self.rank+1):\n",
    "                nodes[j].edges[1] ^ pixs[j-1].edges[0]\n",
    "            scores = scores + [tn.contractors.greedy(nodes + pixs, ignore_edge_order=True)]\n",
    "        return np.stack(scores, axis=0)\n"
   ]
  },
  {
   "cell_type": "code",
   "execution_count": null,
   "metadata": {},
   "outputs": [],
   "source": [
    "bond_dim = 3\n",
    "feature = 2\n",
    "rank = 28**2\n",
    "label_size = 10\n",
    "\n",
    "mps = MPS(bond_dim, feature, rank, label_size)"
   ]
  },
  {
   "cell_type": "code",
   "execution_count": null,
   "metadata": {
    "tags": []
   },
   "outputs": [],
   "source": [
    "test_input = np.random.random_sample([128, 28**2, 2])\n",
    "\n",
    "mps(test_input)"
   ]
  },
  {
   "cell_type": "code",
   "execution_count": null,
   "metadata": {
    "tags": []
   },
   "outputs": [],
   "source": [
    "a = np.random.random_sample([3,2,1])\n",
    "b = np.random.random_sample([3,2,1])\n",
    "c = np.stack([a, b])\n",
    "print(c)\n",
    "*d, = c\n",
    "print(d[0].shape)"
   ]
  },
  {
   "cell_type": "code",
   "execution_count": null,
   "metadata": {
    "tags": []
   },
   "outputs": [],
   "source": [
    "# Testting by getting inner product of dummy pixels and MPS\n",
    "# The result should be a rank 10 vector (tensor) for label determination\n",
    "\n",
    "nodes = nodes + [tn.Node(np.ones(2), f'pix_{i}') for i in range(rank)]\n",
    "start_time = time.time()\n",
    "\n",
    "label_site = rank // 2\n",
    "for i in range(label_site):\n",
    "    bonds = bonds + [nodes[i].edges[1] ^ nodes[i+rank+1].edges[0]]\n",
    "for j in range(label_site+1, rank+1):\n",
    "    bonds = bonds + [nodes[j].edges[1] ^ nodes[j+rank].edges[0]]\n",
    "\n",
    "rel = tn.contractors.auto(nodes, ignore_edge_order=True)\n",
    "# rel = tn.contract_parallel\n",
    "print(rel.tensor)\n",
    "print(f\"Runtime so far:         {int(time.time()-start_time)} sec\\n\")\n",
    "\n",
    "# Looks like everything is OK"
   ]
  },
  {
   "cell_type": "code",
   "execution_count": null,
   "metadata": {
    "tags": []
   },
   "outputs": [],
   "source": [
    "# TODO auto Grad \n",
    "\n",
    "class mpsTrain(tf.Module):\n",
    "    def __init__(self, )"
   ]
  },
  {
   "cell_type": "code",
   "execution_count": null,
   "metadata": {
    "tags": []
   },
   "outputs": [],
   "source": []
  },
  {
   "cell_type": "code",
   "execution_count": null,
   "metadata": {
    "tags": []
   },
   "outputs": [],
   "source": [
    "a = tn.Node(np.ones(2), f'block_{a}')\n",
    "b = tn.Node(np.ones(2), f'block_{b}')\n",
    "print(a.edges)\n",
    "bond = a[0] ^ b[0]\n",
    "c = tn.contract(bond)\n",
    "print(a.edges)\n",
    "print(c.tensor)"
   ]
  },
  {
   "cell_type": "code",
   "execution_count": null,
   "metadata": {},
   "outputs": [],
   "source": [
    "x_train_batch[0,232,:]"
   ]
  },
  {
   "cell_type": "code",
   "execution_count": null,
   "metadata": {},
   "outputs": [],
   "source": [
    "loggits = []"
   ]
  },
  {
   "cell_type": "code",
   "execution_count": null,
   "metadata": {},
   "outputs": [],
   "source": [
    "tensors = [tf.random.normal(shape=(3, 2, 3)) for _ in range (2)] + [tf.random.normal(shape=(3, 5, 3))] + [tf.random.normal(shape=(3, 2, 3)) for _ in range(2)]\n",
    "\n",
    "nodes = [tn.Node(tensor) for tensor in tensors]\n",
    "\n",
    "for k in range (-1, 4):\n",
    "    nodes[k].edges[2] ^ nodes[k+1].edges[0]\n",
    "rel = tn.contractors.greedy(nodes, ignore_edge_order=True)"
   ]
  },
  {
   "cell_type": "code",
   "execution_count": null,
   "metadata": {},
   "outputs": [],
   "source": [
    "a = tf.Node(tf.random.normal(shape=(3,2,3)))\n",
    "b = tf.Node(tf.random.normal(shape=(3,2,3)))\n",
    "a.edges[2] ^ b.edges[0]\n",
    "c = tn.contract_between(a,b)\n",
    "print(c.tensor)"
   ]
  },
  {
   "cell_type": "code",
   "execution_count": null,
   "metadata": {
    "tags": []
   },
   "outputs": [],
   "source": [
    "print(\"Num GPUs Available: \", len(tf.config.experimental.list_physical_devices('GPU')))"
   ]
  },
  {
   "cell_type": "code",
   "execution_count": 11,
   "metadata": {},
   "outputs": [],
   "source": [
    "tensors = [np.random.random_sample([3,2,3]) for _ in range (2)] + [np.random.random_sample([3,3,3])] + [np.random.random_sample([3,2,3]) for _ in range(2)]\n",
    "\n",
    "nodes = [tn.Node(tensor) for tensor in tensors]\n",
    "\n",
    "for k in range (-1, 4):\n",
    "    nodes[k].edges[2] ^ nodes[k+1].edges[0]\n",
    "# rel = tn.contractors.greedy(nodes, ignore_edge_order=True)"
   ]
  },
  {
   "cell_type": "code",
   "execution_count": 13,
   "metadata": {
    "tags": []
   },
   "outputs": [
    {
     "output_type": "stream",
     "name": "stdout",
     "text": "(3,)\nRuntime so far:         0 sec\n\n"
    }
   ],
   "source": [
    "pixs = [tn.Node(np.ones(2), f'pix_{i}') for i in range(4)]\n",
    "start_time = time.time()\n",
    "\n",
    "label_site = 2\n",
    "for i in range(label_site):\n",
    "    nodes[i].edges[1] ^ pixs[i].edges[0]\n",
    "for j in range(label_site+1, 5):\n",
    "    nodes[j].edges[1] ^ pixs[j-1].edges[0]\n",
    "\n",
    "rel = tn.contractors.greedy(nodes+pixs, ignore_edge_order=True)\n",
    "# rel = tn.contract_parallel\n",
    "print(rel.tensor.shape)\n",
    "print(f\"Runtime so far:         {int(time.time()-start_time)} sec\\n\")"
   ]
  },
  {
   "cell_type": "code",
   "execution_count": 14,
   "metadata": {
    "tags": []
   },
   "outputs": [
    {
     "output_type": "execute_result",
     "data": {
      "text/plain": "array([ 84.09298212,  62.4116624 , 136.58501253])"
     },
     "metadata": {},
     "execution_count": 14
    }
   ],
   "source": [
    "rel.tensor"
   ]
  },
  {
   "cell_type": "code",
   "execution_count": 35,
   "metadata": {},
   "outputs": [],
   "source": [
    "tensors_copy = tensors\n",
    "pixs = [np.ones(2) for i in range(4)]"
   ]
  },
  {
   "cell_type": "code",
   "execution_count": 36,
   "metadata": {},
   "outputs": [],
   "source": [
    "left = tf.Variable(tensors_copy[:2])\n",
    "output = tf.Variable(tensors_copy[2])\n",
    "right = tf.Variable(tensors_copy[3:])"
   ]
  },
  {
   "cell_type": "code",
   "execution_count": 37,
   "metadata": {},
   "outputs": [],
   "source": [
    "ln = tn.Node(left.numpy())\n",
    "rn = tn.Node(right.numpy())\n",
    "on = tn.Node(output.numpy())"
   ]
  },
  {
   "cell_type": "code",
   "execution_count": 38,
   "metadata": {},
   "outputs": [],
   "source": [
    "pixs = np.array(pixs)"
   ]
  },
  {
   "cell_type": "code",
   "execution_count": 39,
   "metadata": {
    "tags": []
   },
   "outputs": [
    {
     "output_type": "stream",
     "name": "stdout",
     "text": "(2, 2)\n(2, 3, 2, 3)\n"
    }
   ],
   "source": [
    "pl = tn.Node(pixs[:2])\n",
    "pr = tn.Node(pixs[2:])\n",
    "\n",
    "print(pl.tensor.shape)\n",
    "print(ln.tensor.shape)"
   ]
  },
  {
   "cell_type": "code",
   "execution_count": 40,
   "metadata": {},
   "outputs": [],
   "source": [
    "ln.edges[0] ^ pl.edges[0]\n",
    "ln.edges[2] ^ pl.edges[1]\n",
    "rn.edges[0] ^ pr.edges[0]\n",
    "rn.edges[2] ^ pr.edges[1]\n",
    "\n",
    "ln.edges[1] ^ rn.edges[3]\n",
    "ln.edges[3] ^ on.edges[0]\n",
    "rn.edges[1] ^ on.edges[2]\n",
    "\n",
    "rel_test = tn.contractors.greedy([ln,rn,on,pl,pr], ignore_edge_order=True)"
   ]
  },
  {
   "cell_type": "code",
   "execution_count": 41,
   "metadata": {},
   "outputs": [
    {
     "output_type": "execute_result",
     "data": {
      "text/plain": "array([34.22093859, 28.40038055, 64.10668731])"
     },
     "metadata": {},
     "execution_count": 41
    }
   ],
   "source": [
    "rel_test.tensor"
   ]
  },
  {
   "cell_type": "code",
   "execution_count": null,
   "metadata": {},
   "outputs": [],
   "source": []
  }
 ]
}