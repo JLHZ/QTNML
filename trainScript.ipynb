{
 "metadata": {
  "language_info": {
   "codemirror_mode": {
    "name": "ipython",
    "version": 3
   },
   "file_extension": ".py",
   "mimetype": "text/x-python",
   "name": "python",
   "nbconvert_exporter": "python",
   "pygments_lexer": "ipython3",
   "version": "3.7.9-final"
  },
  "orig_nbformat": 2,
  "kernelspec": {
   "name": "python_defaultSpec_1599482465151",
   "display_name": "Python 3.7.9 64-bit ('googleTNs': conda)"
  }
 },
 "nbformat": 4,
 "nbformat_minor": 2,
 "cells": [
  {
   "cell_type": "code",
   "execution_count": 1,
   "metadata": {},
   "outputs": [],
   "source": [
    "import tensorflow as tf\n",
    "import tensorflow_datasets as tfds\n",
    "import tensornetwork as tn\n",
    "import numpy as np\n",
    "from tensorflow.keras.datasets import mnist\n",
    "import time"
   ]
  },
  {
   "cell_type": "code",
   "execution_count": 2,
   "metadata": {
    "tags": []
   },
   "outputs": [],
   "source": [
    "# Pre-settings\n",
    "######################################\n",
    "\n",
    "# Training parameters\n",
    "num_train = 4000\n",
    "num_test = 1000\n",
    "batch_size = 100\n",
    "num_epochs = 20\n",
    "learning_rate = 1e-4\n",
    "l2_reg = 0.\n",
    "\n",
    "# Loss func and Optimizer\n",
    "# loss_func = tf.nn.softmax_cross_entropy_with_logits()\n",
    "\n",
    "#######################################\n",
    "\n",
    "# load mnist dataset\n",
    "\n",
    "# Normal way\n",
    "(x_train, y_train), (x_test, y_test) = tf.keras.datasets.mnist.load_data()\n",
    "x_train, x_test = x_train / 255.0, x_test / 255.0\n",
    "\n",
    "# Using tfds\n",
    "# train_ds, test_ds = tfds.load('mnist', split=['train', 'test'], data_dir='./mnist_data/', shuffle_files=True)\n",
    "# train_ds = train_ds.take(num_train)\n",
    "# test_ds = test_ds.take(num_test)\n",
    "\n",
    "# print(train_ds)\n",
    "\n",
    "# image_train, label_train = tfds.as_numpy(train_ds)\n",
    "# image_test, label_test = tfds.as_numpy(test_ds)\n",
    "\n",
    "# print(type(image_train), type(label_train), image_train.shape, label_train.shape)\n",
    "\n",
    "########################################\n"
   ]
  },
  {
   "cell_type": "code",
   "execution_count": 3,
   "metadata": {
    "tags": []
   },
   "outputs": [],
   "source": [
    "# Local map f(x) = [x, 1-x]\n",
    "\n",
    "x_train_array = x_train.reshape(-1, 28**2)\n",
    "\n",
    "def local_feature_map(X):\n",
    "    return tf.stack([X, 1-X], axis=2)\n",
    "\n",
    "x_train_featured = local_feature_map(x_train_array)\n",
    "\n",
    "x_train_batch = x_train_featured[:num_train,:,:]\n",
    "y_train_batch = y_train[:num_train]"
   ]
  },
  {
   "cell_type": "code",
   "execution_count": 24,
   "metadata": {
    "tags": []
   },
   "outputs": [
    {
     "output_type": "stream",
     "name": "stdout",
     "text": "785\n"
    }
   ],
   "source": [
    "# MPS initialization\n",
    "# The following code construct a MPS like this\n",
    "\n",
    "#                        label_size\n",
    "#                            |\n",
    "    # bond_dim               |\n",
    "# A1 --------- A2 ---------- L --------- A3 --------- An\n",
    "# |            |                         |            |\n",
    "# |            |                         |            |\n",
    "#           feature      \n",
    "def construct_MPS(bond_dim, feature, rank, label_size):\n",
    "    label_site = rank // 2\n",
    "    mps = tn.FiniteMPS.random(\n",
    "        d = [feature for _ in range(label_site)] + [label_size] + [feature for _ in range(rank - label_site)],\n",
    "        D = [bond_dim for _ in range(rank)],\n",
    "        dtype = np.float32\n",
    "    )\n",
    "\n",
    "    # d = [feature for _ in range(label_site)] + [label_size] + [feature for _ in range(rank - label_site)]\n",
    "    # D = [bond_dim for _ in range(rank)]\n",
    "\n",
    "    # tensors = [np.random.random_sample(d[0], D[0])] + \\\n",
    "    #     [np.random.random_sample(D[n-1], d[n], D[n]) for n in range(1,rank-2)] + \\\n",
    "    #     [np.random.random_sample(D[-1],d[-1])]\n",
    "    # mps = tn.FiniteMPS(\n",
    "    #     tensors = tensors\n",
    "    # )\n",
    "\n",
    "    # connect the edges in the mps and contract over bond dimensions\n",
    "    nodes = [tn.Node(tensor,f'block_{i}') for i,tensor in enumerate(mps.tensors)]\n",
    "\n",
    "    connected_bonds = [nodes[k].edges[2] ^ nodes[k+1].edges[0] for k in range(-1,rank)]\n",
    "    # connected_bonds = []\n",
    "\n",
    "    return nodes, connected_bonds\n",
    "\n",
    "# for x in connected_bonds:\n",
    "#  contracted_node = tn.contract(x) # update for each contracted bond\n",
    "\n",
    "# MPS parameters\n",
    "bond_dim = 1\n",
    "feature = 2\n",
    "rank = 28**2\n",
    "label_size = 10\n",
    "\n",
    "nodes, bonds = construct_MPS(bond_dim, feature, rank, label_size)\n",
    "\n",
    "# result = tn.contractors.auto(nodes, ignore_edge_order=True)\n",
    "\n",
    "# print(result.shape)\n",
    "print(len(nodes))"
   ]
  },
  {
   "cell_type": "code",
   "execution_count": 25,
   "metadata": {
    "tags": []
   },
   "outputs": [
    {
     "output_type": "stream",
     "name": "stdout",
     "text": "[-3.06950929e-134  1.79473303e-133 -4.93674168e-134  1.26817885e-134\n  6.43899148e-134  1.14777735e-133 -1.82832990e-133  7.97770991e-134\n  9.06059191e-134 -1.26766471e-133]\nRuntime so far:         0 sec\n\n"
    }
   ],
   "source": [
    "# Testting by getting inner product of dummy pixels and MPS\n",
    "# The result should be a rank 10 vector (tensor) for label determination\n",
    "\n",
    "nodes = nodes + [tn.Node(np.ones(2), f'pix_{i}') for i in range(rank)]\n",
    "start_time = time.time()\n",
    "\n",
    "label_site = rank // 2\n",
    "for i in range(label_site):\n",
    "    bonds = bonds + [nodes[i].edges[1] ^ nodes[i+rank+1].edges[0]]\n",
    "for j in range(label_site+1, rank+1):\n",
    "    bonds = bonds + [nodes[j].edges[1] ^ nodes[j+rank].edges[0]]\n",
    "\n",
    "rel = tn.contractors.auto(nodes, ignore_edge_order=True)\n",
    "# rel = tn.contract_parallel\n",
    "print(rel.tensor)\n",
    "print(f\"Runtime so far:         {int(time.time()-start_time)} sec\\n\")\n",
    "\n",
    "# Looks like everything is OK"
   ]
  },
  {
   "cell_type": "code",
   "execution_count": null,
   "metadata": {
    "tags": []
   },
   "outputs": [],
   "source": [
    "# TODO auto Grad \n",
    "\n",
    "class mpsTrain(tf.Module):\n",
    "    def __init__(self, )"
   ]
  },
  {
   "cell_type": "code",
   "execution_count": null,
   "metadata": {},
   "outputs": [],
   "source": [
    "# The block from here is used for testing and playing around\n",
    "\n",
    "[np.random.random_sample(2, 2, 2) for n in range(1,rank-2)]"
   ]
  },
  {
   "cell_type": "code",
   "execution_count": null,
   "metadata": {
    "tags": []
   },
   "outputs": [],
   "source": [
    "a = tn.Node(np.ones(2), f'block_{a}')\n",
    "b = tn.Node(np.ones(2), f'block_{b}')\n",
    "print(a.edges)\n",
    "bond = a[0] ^ b[0]\n",
    "c = tn.contract(bond)\n",
    "print(a.edges)\n",
    "print(c.tensor)"
   ]
  },
  {
   "cell_type": "code",
   "execution_count": null,
   "metadata": {
    "tags": []
   },
   "outputs": [],
   "source": [
    "for i in range(2):\n",
    "    print(i)"
   ]
  },
  {
   "cell_type": "code",
   "execution_count": null,
   "metadata": {},
   "outputs": [],
   "source": []
  }
 ]
}