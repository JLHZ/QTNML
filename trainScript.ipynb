{
 "metadata": {
  "language_info": {
   "codemirror_mode": {
    "name": "ipython",
    "version": 3
   },
   "file_extension": ".py",
   "mimetype": "text/x-python",
   "name": "python",
   "nbconvert_exporter": "python",
   "pygments_lexer": "ipython3",
   "version": "3.7.9-final"
  },
  "orig_nbformat": 2,
  "kernelspec": {
   "name": "python_defaultSpec_1599360281489",
   "display_name": "Python 3.7.9 64-bit ('googleTNs': conda)"
  }
 },
 "nbformat": 4,
 "nbformat_minor": 2,
 "cells": [
  {
   "cell_type": "code",
   "execution_count": 1,
   "metadata": {},
   "outputs": [],
   "source": [
    "import tensorflow as tf\n",
    "import tensorflow_datasets as tfds\n",
    "import tensornetwork as tn\n",
    "import numpy as np\n",
    "from tensorflow.keras.datasets import mnist"
   ]
  },
  {
   "cell_type": "code",
   "execution_count": 2,
   "metadata": {
    "tags": []
   },
   "outputs": [],
   "source": [
    "# Pre-settings\n",
    "######################################\n",
    "\n",
    "# Training parameters\n",
    "num_train = 4000\n",
    "num_test = 1000\n",
    "batch_size = 100\n",
    "num_epochs = 20\n",
    "learning_rate = 1e-4\n",
    "l2_reg = 0.\n",
    "\n",
    "# Loss func and Optimizer\n",
    "# loss_func = tf.nn.softmax_cross_entropy_with_logits()\n",
    "\n",
    "#######################################\n",
    "\n",
    "# load mnist dataset\n",
    "\n",
    "# Normal way\n",
    "(x_train, y_train), (x_test, y_test) = tf.keras.datasets.mnist.load_data()\n",
    "x_train, x_test = x_train / 255.0, x_test / 255.0\n",
    "\n",
    "# Using tfds\n",
    "# train_ds, test_ds = tfds.load('mnist', split=['train', 'test'], data_dir='./mnist_data/', shuffle_files=True)\n",
    "# train_ds = train_ds.take(num_train)\n",
    "# test_ds = test_ds.take(num_test)\n",
    "\n",
    "# print(train_ds)\n",
    "\n",
    "# image_train, label_train = tfds.as_numpy(train_ds)\n",
    "# image_test, label_test = tfds.as_numpy(test_ds)\n",
    "\n",
    "# print(type(image_train), type(label_train), image_train.shape, label_train.shape)\n",
    "\n",
    "########################################\n"
   ]
  },
  {
   "cell_type": "code",
   "execution_count": 4,
   "metadata": {
    "tags": []
   },
   "outputs": [],
   "source": [
    "# Local map f(x) = [x, 1-x]\n",
    "\n",
    "x_train_array = x_train.reshape(-1, 28**2)\n",
    "\n",
    "def local_feature_map(X):\n",
    "    return tf.stack([X, 1-X], axis=2)\n",
    "\n",
    "x_train_featured = local_feature_map(x_train_array)\n",
    "\n",
    "x_train_batch = x_train_featured[:num_train,:,:]\n",
    "y_train_batch = y_train[:num_train]"
   ]
  },
  {
   "cell_type": "code",
   "execution_count": 5,
   "metadata": {
    "tags": []
   },
   "outputs": [],
   "source": [
    "# MPS initialization\n",
    "# The following code construct a MPS like this\n",
    "\n",
    "#                        label_size\n",
    "#                            |\n",
    "    # bond_dim               |\n",
    "# A1 --------- A2 ---------- L --------- A3 --------- An\n",
    "# |            |                         |            |\n",
    "# |            |                         |            |\n",
    "#           feature      \n",
    "def construct_MPS(bond_dim, feature, rank, label_site):\n",
    "    label_site = rank // 2\n",
    "    mps = tn.FiniteMPS.random(\n",
    "        d = [feature for _ in range(label_site)] + [label_size] + [feature for _ in range(rank - label_site)],\n",
    "        D = [bond_dim for _ in range(rank)],\n",
    "        dtype = np.float32\n",
    "    )\n",
    "\n",
    "    # connect the edges in the mps and contract over bond dimensions\n",
    "    nodes = [tn.Node(tensor,f'block_{i}') for i,tensor in enumerate(mps.tensors)]\n",
    "\n",
    "    connected_bonds = [nodes[k].edges[2] ^ nodes[k+1].edges[0] for k in range(-1,rank)]\n",
    "\n",
    "    return nodes, connected_bonds\n",
    "\n",
    "# for x in connected_bonds:\n",
    "#  contracted_node = tn.contract(x) # update for each contracted bond\n",
    "\n",
    "# MPS parameters\n",
    "bond_dim = 3\n",
    "feature = 2\n",
    "rank = 28**2\n",
    "label_size = 10\n",
    "\n",
    "nodes, bonds = construct_MPS(bond_dim, feature, rank, label_size)\n",
    "\n",
    "# result = tn.contractors.auto(nodes, ignore_edge_order=True)\n",
    "\n",
    "# print(result.shape)\n"
   ]
  },
  {
   "cell_type": "code",
   "execution_count": null,
   "metadata": {},
   "outputs": [],
   "source": [
    "x_train_batch = x_train_featured[:3000,:,:]\n",
    "\n",
    "x_train_batch.shape"
   ]
  },
  {
   "cell_type": "code",
   "execution_count": null,
   "metadata": {
    "tags": []
   },
   "outputs": [],
   "source": [
    "a = tn.Node(np.ones(2))\n",
    "b = tn.Node(np.ones(2))\n",
    "edge = a[0] ^ b[0]\n",
    "c = tn.contract(edge)\n",
    "print(c.tensor, a.tensor, b.tensor) # Should print 2.0"
   ]
  },
  {
   "cell_type": "code",
   "execution_count": null,
   "metadata": {
    "tags": []
   },
   "outputs": [],
   "source": [
    "class mpsTrain(tf.Module):\n",
    "    def __init__(self, )"
   ]
  },
  {
   "cell_type": "code",
   "execution_count": null,
   "metadata": {},
   "outputs": [],
   "source": []
  }
 ]
}