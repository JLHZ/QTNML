{
 "metadata": {
  "language_info": {
   "codemirror_mode": {
    "name": "ipython",
    "version": 3
   },
   "file_extension": ".py",
   "mimetype": "text/x-python",
   "name": "python",
   "nbconvert_exporter": "python",
   "pygments_lexer": "ipython3",
   "version": "3.7.9-final"
  },
  "orig_nbformat": 2,
  "kernelspec": {
   "name": "python_defaultSpec_1599299530490",
   "display_name": "Python 3.7.9 64-bit ('googleTNs': conda)"
  }
 },
 "nbformat": 4,
 "nbformat_minor": 2,
 "cells": [
  {
   "cell_type": "code",
   "execution_count": 1,
   "metadata": {
    "tags": []
   },
   "outputs": [
    {
     "output_type": "stream",
     "name": "stdout",
     "text": "[[1. 0.]\n [0. 1.]]\n"
    }
   ],
   "source": [
    "import tensornetwork as tn\n",
    "import numpy as np\n",
    "\n",
    "node = tn.Node(np.eye(2))\n",
    "print(node.tensor)  #"
   ]
  },
  {
   "cell_type": "code",
   "execution_count": 2,
   "metadata": {
    "tags": []
   },
   "outputs": [],
   "source": [
    "a = tn.Node(np.eye(2))\n",
    "b = tn.Node(np.eye(2))\n",
    "c = tn.Node(np.eye(2))\n",
    "# Dangling edges are automatically created at node creation.\n",
    "# We can access them this way.\n",
    "dangling_edge = a.get_edge(1)\n",
    "# This is the same as above\n",
    "dangling_edge = a[1]\n",
    "# Create a standard edge by connecting any two separate nodes together.\n",
    "# We create a new edge by \"connecting\" two dangling edges.\n",
    "standard_edge = a[0] ^ b[0] # same as tn.connect(a[0], b[0])\n",
    "# Create a trace edge by connecting a node to itself.\n",
    "trace_edge = c[0] ^ c[1]"
   ]
  },
  {
   "cell_type": "code",
   "execution_count": 3,
   "metadata": {},
   "outputs": [],
   "source": [
    "def apply_hadamard(edge):\n",
    "  hadamard_op = np.array([[1.0, 1.0], [1.0, -1.0]]) / np.sqrt(2.0)\n",
    "  hadamard_node = tn.Node(hadamard_op)\n",
    "  # Connect the \"qubit edge\" to the operator \"input edge\"\n",
    "  edge ^ hadamard_node[0]\n",
    "  return hadamard_node[1]  # This is the \"output edge\".\n",
    "\n",
    "# Build the quantum circuit.\n",
    "qubit = tn.Node(np.array([1.0, 0.0])) # A \"zero state\" qubit.\n",
    "qubit_edge = qubit[0]\n",
    "for i in range(5):\n",
    "  qubit_edge = apply_hadamard(qubit_edge)"
   ]
  },
  {
   "cell_type": "code",
   "execution_count": 9,
   "metadata": {
    "tags": []
   },
   "outputs": [
    {
     "output_type": "stream",
     "name": "stdout",
     "text": "[1. 1.]\n[1. 1.]\n2.0\n"
    }
   ],
   "source": [
    "a = tn.Node(np.ones(2))\n",
    "b = tn.Node(np.ones(2))\n",
    "edge = a[0] ^ b[0]\n",
    "c = tn.contract(edge)\n",
    "print(a.tensor)\n",
    "print(b.tensor)\n",
    "print(c.tensor) # Should print 2.0"
   ]
  },
  {
   "cell_type": "code",
   "execution_count": 8,
   "metadata": {},
   "outputs": [],
   "source": []
  },
  {
   "cell_type": "code",
   "execution_count": null,
   "metadata": {},
   "outputs": [],
   "source": []
  }
 ]
}