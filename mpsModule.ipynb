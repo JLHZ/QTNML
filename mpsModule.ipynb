{
 "metadata": {
  "language_info": {
   "codemirror_mode": {
    "name": "ipython",
    "version": 3
   },
   "file_extension": ".py",
   "mimetype": "text/x-python",
   "name": "python",
   "nbconvert_exporter": "python",
   "pygments_lexer": "ipython3",
   "version": "3.7.9-final"
  },
  "orig_nbformat": 2,
  "kernelspec": {
   "name": "python_defaultSpec_1599580087878",
   "display_name": "Python 3.7.9 64-bit ('googleTNs': conda)"
  }
 },
 "nbformat": 4,
 "nbformat_minor": 2,
 "cells": [
  {
   "cell_type": "code",
   "execution_count": 1,
   "metadata": {},
   "outputs": [],
   "source": [
    "import tensorflow as tf\n",
    "import tensorflow_datasets as tfds\n",
    "import tensornetwork as tn\n",
    "import numpy as np\n",
    "from tensorflow.keras.datasets import mnist\n",
    "import time\n",
    "\n",
    "tn.set_default_backend(\"numpy\")"
   ]
  },
  {
   "cell_type": "code",
   "execution_count": null,
   "metadata": {},
   "outputs": [],
   "source": [
    "# The following code construct a MPS like this\n",
    "\n",
    "#                        label_size\n",
    "#                            |\n",
    "    # bond_dim               |\n",
    "# A1 --------- A2 ---------- L --------- A3 --------- An\n",
    "# |            |                         |            |\n",
    "# |            |                         |            |\n",
    "#           feature      \n",
    "def construct_MPS(bond_dim, feature, rank, label_size):\n",
    "    label_site = rank // 2\n",
    "    mps = tn.InfiniteMPS.random(\n",
    "        d = [feature for _ in range(label_site)] + [label_size] + [feature for _ in range(rank - label_site)],\n",
    "        D = [bond_dim for _ in range(rank+2)],\n",
    "        dtype = np.float32\n",
    "    )\n",
    "\n",
    "    # left_region = np.stack(mps.tensors[:label_site], axis=0)\n",
    "    # output_site = mps.tensors[label_site]\n",
    "    # right_region = np.stack(mps.tensors[label_site+1:], axis=0)\n",
    "    \n",
    "    return mps\n",
    "    # return nodes, connected_bonds"
   ]
  },
  {
   "cell_type": "code",
   "execution_count": null,
   "metadata": {},
   "outputs": [],
   "source": [
    "class MPSModle(tf.Module):\n",
    "    def __init__(self, bond_dim, feature, rank, label_size, name=None):\n",
    "        super().__init__(name=name)\n",
    "        mps = construct_MPS(bond_dim, feature, rank, label_size)\n",
    "\n",
    "    # def __call__(self, x):\n",
    "    #     return self.a_variable * x + self.non_trainable_variable"
   ]
  },
  {
   "cell_type": "code",
   "execution_count": 23,
   "metadata": {},
   "outputs": [],
   "source": [
    "class InputModule(tf.Module):\n",
    "    def __init__(self, tensor, name=None):\n",
    "        super().__init__(name=name)\n",
    "        # tensor [l, feature, r]\n",
    "        self.input_tensor = tf.Variable(tensor, trainable=True)\n",
    "\n",
    "    def __call__(self, input):\n",
    "        # input [feature]\n",
    "        core = tn.Node(self.input_tensor.numpy())\n",
    "        input_node = tn.Node(input)\n",
    "        core.edges[1] ^ input_node[0]\n",
    "        result = core @ input_node\n",
    "        return result\n",
    "\n",
    "class OutputModule(tf.Module):\n",
    "    def __init__(self, tensor, name=None):\n",
    "        super().__init__(name=name)\n",
    "        # tensor [l, label_size, r]\n",
    "        self.output_tensor = tf.Variable(tensor, trainable=True)\n",
    "\n",
    "    def __call__(self):        \n",
    "        return tn.Node(self.output_tensor.numpy())\n",
    "\n",
    "class InputRegion(tf.Module):\n",
    "    def __init__(self, tensors, name=None):\n",
    "        super().__init__(name=name)\n",
    "        # tensors [[l, feature, r]]\n",
    "        input_Modules = [InputModule(tensor) for tensor in tensors]\n",
    "\n",
    "        self.tensors = tensors\n",
    "        self.input_Modules = input_Modules\n",
    "    \n",
    "    def __call__(self, input):\n",
    "        # input [rank, feature]\n",
    "        assert input.shape[0] == len(self.input_Modules)\n",
    "        # nodes [[l,r]]\n",
    "        nodes = [module(tensor) for module, tensor in zip(self.input_Modules, input)]\n",
    "        # rel [l,r]\n",
    "        for i in range(len(nodes) - 1):\n",
    "            nodes[i].edges[1] ^ nodes[i+1].edges[0]\n",
    "            rel = nodes[i] @ nodes[i+1]\n",
    "        return rel"
   ]
  },
  {
   "cell_type": "code",
   "execution_count": 31,
   "metadata": {
    "tags": []
   },
   "outputs": [
    {
     "output_type": "stream",
     "name": "stdout",
     "text": "######################################\nFOR inputModule Test\n(<tf.Variable 'Variable:0' shape=(3, 2, 3) dtype=float64, numpy=\narray([[[0.90062223, 0.23863093, 0.44086617],\n        [0.87259808, 0.2783695 , 0.46173209]],\n\n       [[0.29503336, 0.47423814, 0.7647958 ],\n        [0.03496632, 0.39925278, 0.50692447]],\n\n       [[0.81228597, 0.01524813, 0.18350953],\n        [0.92846533, 0.37227338, 0.00361462]]])>,)\n(3, 3)\n\n######################################\nFOR outputModule Test\n10\n\n######################################\nFOR inputRegion Test\n756\n(3, 3)\n"
    }
   ],
   "source": [
    "print(\"######################################\")\n",
    "print(\"FOR inputModule Test\")\n",
    "input_tensor = np.random.random_sample([3,2,3])\n",
    "inputM = InputModule(input_tensor)\n",
    "print(inputM.variables)\n",
    "print(inputM(np.ones(2)).tensor.shape)\n",
    "\n",
    "print(\"\\n######################################\")\n",
    "print(\"FOR outputModule Test\")\n",
    "output_tensor = np.random.random_sample([3,10,3])\n",
    "outputM = OutputModule(output_tensor)\n",
    "print(outputM().tensor.shape[1])\n",
    "\n",
    "print(\"\\n######################################\")\n",
    "print(\"FOR inputRegion Test\")\n",
    "tensors = [np.random.random_sample([3,2,3]) for _ in range(28*27)]\n",
    "inputRegion = InputRegion(tensors)\n",
    "print(len(inputRegion.variables))\n",
    "\n",
    "input = np.random.random_sample([28*27,2])\n",
    "print(inputRegion(input).tensor.shape)"
   ]
  },
  {
   "cell_type": "code",
   "execution_count": null,
   "metadata": {},
   "outputs": [],
   "source": []
  }
 ]
}